{
  "nbformat": 4,
  "nbformat_minor": 0,
  "metadata": {
    "colab": {
      "provenance": [],
      "authorship_tag": "ABX9TyNxMQYLvON7nMFBWW/SgXws",
      "include_colab_link": true
    },
    "kernelspec": {
      "name": "python3",
      "display_name": "Python 3"
    },
    "language_info": {
      "name": "python"
    }
  },
  "cells": [
    {
      "cell_type": "markdown",
      "metadata": {
        "id": "view-in-github",
        "colab_type": "text"
      },
      "source": [
        "<a href=\"https://colab.research.google.com/github/anson1788/AiCardBackend/blob/main/opcg_turn_though.ipynb\" target=\"_parent\"><img src=\"https://colab.research.google.com/assets/colab-badge.svg\" alt=\"Open In Colab\"/></a>"
      ]
    },
    {
      "cell_type": "code",
      "execution_count": 4,
      "metadata": {
        "colab": {
          "base_uri": "https://localhost:8080/"
        },
        "id": "ZrFZvoYCdQba",
        "outputId": "154c6183-9bcc-4a1d-bb75-1bd8d591d42c"
      },
      "outputs": [
        {
          "output_type": "stream",
          "name": "stdout",
          "text": [
            "I'm just an AI, I don't have feelings or emotions like humans do, so I don't have a physical or mental state that can be described as \"good\" or \"bad\". I exist solely to process and generate text based on the inputs I receive, so I'm always \"on\" and ready to assist with any questions or tasks you may have!\n",
            "\n",
            "That being said, I'm here to help you with any questions or topics you'd like to discuss. How can I assist you today?\n"
          ]
        }
      ],
      "source": [
        "#!pip install llama_index\n",
        "#!pip install llama-index-llms-groq\n",
        "#!pip install llama-index-llms-openai\n",
        "#!pip install llama-index-agent-openai\n",
        "from llama_index.llms.groq import Groq\n",
        "import random\n",
        "from pydantic import Field\n",
        "\n",
        "exploreGameEnvPrompt =\"\"\"\n",
        "#Game Context for 'one piece' trading card game\n",
        "\n",
        "##Game Objective:\n",
        "*Reduce your opponent's life to zero or exhaust their deck so they can't draw a card at the start of their turn.\n",
        "\n",
        "##Deck Building:\n",
        "*A deck typically contains 50 cards. Decks consist of character cards, event cards, and stage cards.\n",
        "*A separate \"Leader\" card represents the player's character.\n",
        "\n",
        "##Game Setup:\n",
        "*Each player starts with a Leader card and a deck.\n",
        "*Players draw five cards as their starting hand.\n",
        "*Players have a set amount of \"Life\" points based on their Leader card's specifications.\n",
        "\n",
        "##Playing Areas\n",
        "###Leader Area:\n",
        "*Where your Leader Card goes at the start of the game.\n",
        "*Remains here throughout the game.\n",
        "###Character Area:\n",
        "*Where you play your Character Cards.\n",
        "*You can only play max 5 Character Cards on this Area.\n",
        "*They refresh (stand up) at the start of your turn.\n",
        "###DON Area:\n",
        "*Where played DON Cards go.\n",
        "*DON here are used as currency or cost to play other cards.\n",
        "*They refresh (stand up) at the start of your turn.\n",
        "###Other Important Areas:\n",
        "*Deck: Your draw pile, placed face-down.\n",
        "*Trash: Where cards go when used or KO'd.\n",
        "*Life: Not a physical area, but each player's remaining Life is tracked, usually on a separate playmat or using a die.\n",
        "\n",
        "##Turn Structure:\n",
        "###Draw Phase:\n",
        "*Draw one card from the deck.\n",
        "###Refresh Phase:\n",
        "*Reset any used cards.\n",
        "###Main Phase:\n",
        "*Players can play characters, events, and stages by using DON cards as a resource.\n",
        "example 1:\n",
        "You have a character \"A\" with 3 cost and you have 5 active DON in DON Area. Also your Character Area is empty.\n",
        "You can rest 3 active DON as cost and play character \"A\" in Character Area.\n",
        "After play character \"A\" in Character Area. You will have 3 rested DON and 2 active DON remain the Don Area.\n",
        "example 2:\n",
        "You have a character \"A\" with 3 cost and you have 2 active DON in DON Area. Also your Character Area is empty.\n",
        "You checked your DON Area and there is no more than 3 active DON.\n",
        "You dont have enough Don as resource/cost to play character \"A\".\n",
        "Therefore you cannot play character \"A\".\n",
        "*Players can choose to delare end turn.\n",
        "When player finished all the move in his turn.\n",
        "Player will declare end turn.\n",
        "Current turn will end and pass to next player.\n",
        "End turn without any move can also be a good strategy to save the card in hand for future turn.\n",
        "*Players can declare attack to opponent's leader / rested character.\n",
        "\n",
        "\n",
        "###Battle Phase:\n",
        "*When player declare an attach, it will enter battle phase.\n",
        "###End Phase:\n",
        "*End your turn.\n",
        "\n",
        "\n",
        "\n",
        "#Current Game Environment:\n",
        "Current Turn : 1 //assume this is the first turn of the game\n",
        "Current Turn player : Player 1\n",
        "Player 1's Leader Area: ST01-001 (Active)\n",
        "Player 1's Character Area: Empty\n",
        "Player 1's Card in Hand : ['ST01-008', 'ST01-008', 'ST01-005', 'ST01-002', 'ST01-016']\n",
        "Player 1's Life : 5\n",
        "Player 1's Don Area: 1 active Don , 0 rested Don\n",
        "Player 2's Leader Area: ST01-001 (Active)\n",
        "Player 2's Character Area: Empty\n",
        "Player 2's Card in Hand : 5 cards\n",
        "Player 2's Life : 5\n",
        "Player 2's Don Area: 0 active Don , 0 rested Don\n",
        "\n",
        "#Task :\n",
        "You are now playing 'one piece' trading card game and you are a player 1. Based on current game environment,\n",
        "1.you should list all the move possible and the move must be legal and follow the game rules.\n",
        "2.suggest which is the best move.\n",
        "\n",
        "\"\"\"\n",
        "\n",
        "bestMovePrompt =\"\"\"\n",
        "\n",
        "#Current Game Environment:\n",
        "\n",
        "#Task :\n",
        "You are a player 1. Based on current game environment,\n",
        "1.you should list all the move possible and the move must be legal and follow the game rules.\n",
        "2.suggest which is the best move.\n",
        "\n",
        "\"\"\"\n",
        "llm = Groq(model=\"llama3-8b-8192\", api_key=\"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\")\n",
        "\n",
        "#agent = OpenAIAgent.from_tools([], llm=llm, verbose=True, context=context)\n",
        "response = llm.complete(\"how are u \")\n",
        "print(response)\n"
      ]
    }
  ]
}